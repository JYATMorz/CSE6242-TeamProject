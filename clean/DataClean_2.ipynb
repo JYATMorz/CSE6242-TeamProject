{
 "cells": [
  {
   "cell_type": "markdown",
   "metadata": {},
   "source": [
    "## Extraction and Preprocessing of Data for Visualization \n",
    "\n",
    "#### Requirements\n",
    "This notebook was developed and tested on local machine within the following environment. \n",
    "\n",
    "Software:\n",
    "1. Visual Studio Code 1.66.2\n",
    "2. Python 3.7.4\n",
    "3. jupyter-core 4.9.2\n",
    "4. pyspark 3.2.1\n",
    "\n",
    "Hardware:\n",
    "1. Windows 10 64-bit\n",
    "2. 16 GB RAM, 1 TB SSD Disk"
   ]
  },
  {
   "cell_type": "markdown",
   "metadata": {},
   "source": [
    "### 1. Load libraries and initialize pyspark"
   ]
  },
  {
   "cell_type": "code",
   "execution_count": 1,
   "metadata": {},
   "outputs": [],
   "source": [
    "#import pandas as pd\n",
    "#import numpy as np\n",
    "import pyspark\n",
    "from pyspark.sql import SQLContext\n",
    "from pyspark.sql import *\n",
    "from pyspark.sql.functions import *"
   ]
  },
  {
   "cell_type": "code",
   "execution_count": null,
   "metadata": {},
   "outputs": [],
   "source": [
    "# initial pyspark environment\n",
    "sc = pyspark.context.SparkContext('local')\n",
    "spark = SparkSession(sc)"
   ]
  },
  {
   "cell_type": "markdown",
   "metadata": {},
   "source": [
    "#### 2. Utilities functions"
   ]
  },
  {
   "cell_type": "code",
   "execution_count": 14,
   "metadata": {},
   "outputs": [],
   "source": [
    "\"\"\"\n",
    "functions: load csv file from given path\n",
    "param: String path\n",
    "return: pyspark.sql.Dataframe\n",
    "\"\"\"\n",
    "def load_data(path):\n",
    "    df = spark.read.csv(path, header=True,inferSchema=True)\n",
    "\n",
    "    print(\"Record Count: \", df.count())\n",
    "    df.printSchema()\n",
    "\n",
    "    return df"
   ]
  },
  {
   "cell_type": "code",
   "execution_count": 15,
   "metadata": {},
   "outputs": [],
   "source": [
    "\"\"\"\n",
    "functions: output dataframe to csv file at given path\n",
    "param: pyspark.sql.Dataframe df, String path\n",
    "return: void\n",
    "\"\"\"\n",
    "def output_data(df, path):\n",
    "    df.toPandas().to_csv(path, index=False)"
   ]
  },
  {
   "cell_type": "markdown",
   "metadata": {},
   "source": [
    "#### 3. Crime Data\n",
    "Historical crime data of the Cities of Los Angeles for all crimes recorded from 2010 to 2020 should be downloaded from [State of California Department of Justice Office of the Attorney General](https://openjustice.doj.ca.gov/data-stories/crimes-clearances-arson) as CSV into the working directory and renamed to `crimes_original.csv`.  "
   ]
  },
  {
   "cell_type": "code",
   "execution_count": 16,
   "metadata": {},
   "outputs": [
    {
     "name": "stdout",
     "output_type": "stream",
     "text": [
      "Record Count:  26411\n",
      "root\n",
      " |-- Year: integer (nullable = true)\n",
      " |-- County: string (nullable = true)\n",
      " |-- NCICCode: string (nullable = true)\n",
      " |-- Violent_sum: integer (nullable = true)\n",
      " |-- Homicide_sum: integer (nullable = true)\n",
      " |-- ForRape_sum: integer (nullable = true)\n",
      " |-- Robbery_sum: integer (nullable = true)\n",
      " |-- AggAssault_sum: integer (nullable = true)\n",
      " |-- Property_sum: integer (nullable = true)\n",
      " |-- Burglary_sum: integer (nullable = true)\n",
      " |-- VehicleTheft_sum: integer (nullable = true)\n",
      " |-- LTtotal_sum: integer (nullable = true)\n",
      " |-- ViolentClr_sum: integer (nullable = true)\n",
      " |-- HomicideClr_sum: integer (nullable = true)\n",
      " |-- ForRapeClr_sum: integer (nullable = true)\n",
      " |-- RobberyClr_sum: integer (nullable = true)\n",
      " |-- AggAssaultClr_sum: integer (nullable = true)\n",
      " |-- PropertyClr_sum: integer (nullable = true)\n",
      " |-- BurglaryClr_sum: integer (nullable = true)\n",
      " |-- VehicleTheftClr_sum: integer (nullable = true)\n",
      " |-- LTtotalClr_sum: integer (nullable = true)\n",
      " |-- TotalStructural_sum: string (nullable = true)\n",
      " |-- TotalMobile_sum: string (nullable = true)\n",
      " |-- TotalOther_sum: string (nullable = true)\n",
      " |-- GrandTotal_sum: string (nullable = true)\n",
      " |-- GrandTotClr_sum: string (nullable = true)\n",
      " |-- RAPact_sum: integer (nullable = true)\n",
      " |-- ARAPact_sum: integer (nullable = true)\n",
      " |-- FROBact_sum: integer (nullable = true)\n",
      " |-- KROBact_sum: integer (nullable = true)\n",
      " |-- OROBact_sum: integer (nullable = true)\n",
      " |-- SROBact_sum: integer (nullable = true)\n",
      " |-- HROBnao_sum: integer (nullable = true)\n",
      " |-- CHROBnao_sum: integer (nullable = true)\n",
      " |-- GROBnao_sum: integer (nullable = true)\n",
      " |-- CROBnao_sum: integer (nullable = true)\n",
      " |-- RROBnao_sum: integer (nullable = true)\n",
      " |-- BROBnao_sum: integer (nullable = true)\n",
      " |-- MROBnao_sum: integer (nullable = true)\n",
      " |-- FASSact_sum: integer (nullable = true)\n",
      " |-- KASSact_sum: integer (nullable = true)\n",
      " |-- OASSact_sum: integer (nullable = true)\n",
      " |-- HASSact_sum: integer (nullable = true)\n",
      " |-- FEBURact_Sum: integer (nullable = true)\n",
      " |-- UBURact_sum: integer (nullable = true)\n",
      " |-- RESDBUR_sum: integer (nullable = true)\n",
      " |-- RNBURnao_sum: integer (nullable = true)\n",
      " |-- RDBURnao_sum: integer (nullable = true)\n",
      " |-- RUBURnao_sum: integer (nullable = true)\n",
      " |-- NRESBUR_sum: integer (nullable = true)\n",
      " |-- NNBURnao_sum: integer (nullable = true)\n",
      " |-- NDBURnao_sum: integer (nullable = true)\n",
      " |-- NUBURnao_sum: integer (nullable = true)\n",
      " |-- MVTact_sum: integer (nullable = true)\n",
      " |-- TMVTact_sum: integer (nullable = true)\n",
      " |-- OMVTact_sum: integer (nullable = true)\n",
      " |-- PPLARnao_sum: integer (nullable = true)\n",
      " |-- PSLARnao_sum: integer (nullable = true)\n",
      " |-- SLLARnao_sum: integer (nullable = true)\n",
      " |-- MVLARnao_sum: integer (nullable = true)\n",
      " |-- MVPLARnao_sum: integer (nullable = true)\n",
      " |-- BILARnao_sum: integer (nullable = true)\n",
      " |-- FBLARnao_sum: integer (nullable = true)\n",
      " |-- COMLARnao_sum: integer (nullable = true)\n",
      " |-- AOLARnao_sum: integer (nullable = true)\n",
      " |-- LT400nao_sum: integer (nullable = true)\n",
      " |-- LT200400nao_sum: integer (nullable = true)\n",
      " |-- LT50200nao_sum: integer (nullable = true)\n",
      " |-- LT50nao_sum: integer (nullable = true)\n",
      "\n",
      "After selected, data count:  1123\n"
     ]
    }
   ],
   "source": [
    "# load crime data\n",
    "crime_input_path = \"crimes_original.csv\"\n",
    "crime_df = load_data(crime_input_path)\n",
    "\n",
    "# Select wanted colunmns\n",
    "crime_input = crime_df.select(\"Year\", \"County\", \"NCICCode\", \"Violent_sum\", \"Property_sum\")\n",
    "\n",
    "# Select time range and Los Angeles County\n",
    "crime_input = crime_input.filter((crime_input[\"Year\"]>=2010) & (crime_input[\"Year\"]<=2020))\\\n",
    "                    .filter(crime_input[\"County\"]==\"Los Angeles County\")\n",
    "\n",
    "print(\"After selected, data count: \", crime_input.count())"
   ]
  },
  {
   "cell_type": "code",
   "execution_count": 17,
   "metadata": {},
   "outputs": [
    {
     "name": "stdout",
     "output_type": "stream",
     "text": [
      "Record Count:  88\n",
      "root\n",
      " |-- City: string (nullable = true)\n",
      "\n"
     ]
    }
   ],
   "source": [
    "# Include the cities list in Los Angeles\n",
    "cities_path = \"cities.csv\"\n",
    "cities_df = load_data(cities_path)"
   ]
  },
  {
   "cell_type": "code",
   "execution_count": 18,
   "metadata": {},
   "outputs": [
    {
     "name": "stdout",
     "output_type": "stream",
     "text": [
      "After joined, data count:  968\n",
      "+----+-----------+------------+----------------+\n",
      "|Year|Violent_sum|Property_sum|            City|\n",
      "+----+-----------+------------+----------------+\n",
      "|2010|        185|        2075|        Alhambra|\n",
      "|2010|         88|        1737|         Arcadia|\n",
      "|2010|         64|         265|         Artesia|\n",
      "|2010|         24|          75|          Avalon|\n",
      "|2010|        226|        1136|           Azusa|\n",
      "|2010|        253|        1752|    Baldwin Park|\n",
      "|2010|        241|         601|            Bell|\n",
      "|2010|        415|        1776|      Bellflower|\n",
      "|2010|        210|         940|    Bell Gardens|\n",
      "|2010|          7|          81|La Habra Heights|\n",
      "+----+-----------+------------+----------------+\n",
      "only showing top 10 rows\n",
      "\n"
     ]
    }
   ],
   "source": [
    "# Only keep the data by cities\n",
    "crime_clean = crime_input.join(cities_df, crime_input[\"NCICCode\"]==cities_df[\"City\"]).drop(\"NCICCode\", \"County\")\n",
    "\n",
    "print(\"After joined, data count: \", crime_clean.count())\n",
    "crime_clean.show(10)"
   ]
  },
  {
   "cell_type": "code",
   "execution_count": 13,
   "metadata": {},
   "outputs": [],
   "source": [
    "# write cleaned data to csv\n",
    "crime_output_path = \"crime_clean.csv\"\n",
    "output_data(df=crime_clean, path=crime_output_path)"
   ]
  },
  {
   "cell_type": "markdown",
   "metadata": {},
   "source": [
    "#### 4. Unemployment Data\n",
    "Historical unemployment data of the Cities of Los Angeles from 2010 to 2020 should be downloaded from [Employment Development Department of the State of California](https://data.edd.ca.gov/Labor-Force-and-Unemployment-Rates/Local-Area-Unemployment-Statistics-LAUS-Annual-Ave/7jbb-3rb8) as CSV into the working directory and renamed to `unemployment_original.csv`.  "
   ]
  },
  {
   "cell_type": "code",
   "execution_count": 67,
   "metadata": {},
   "outputs": [
    {
     "name": "stdout",
     "output_type": "stream",
     "text": [
      "Record Count:  4972\n",
      "root\n",
      " |-- Area Type: string (nullable = true)\n",
      " |-- Area Name: string (nullable = true)\n",
      " |-- Location: string (nullable = true)\n",
      " |-- Year: integer (nullable = true)\n",
      " |-- Period: string (nullable = true)\n",
      " |-- Labor Force: integer (nullable = true)\n",
      " |-- Employment: integer (nullable = true)\n",
      " |-- Unemployment: integer (nullable = true)\n",
      " |-- Unemployment Rate: double (nullable = true)\n",
      " |-- Seasonally Adjusted (Y N): string (nullable = true)\n",
      " |-- Status: string (nullable = true)\n",
      "\n"
     ]
    }
   ],
   "source": [
    "# load unemployment data\n",
    "unemployment_input_path = \"unemployment_original.csv\"\n",
    "unemployment_df = load_data(unemployment_input_path)\n",
    "\n",
    "# Select wanted colunmns\n",
    "unemployment_input = unemployment_df.select(\"Location\", \"Year\", \"Unemployment Rate\")\n",
    "\n",
    "# Select time range and Area Type\n",
    "unemployment_input = unemployment_input.filter((unemployment_input[\"Year\"]>=2010) & (unemployment_input[\"Year\"]<=2020))\\\n"
   ]
  },
  {
   "cell_type": "code",
   "execution_count": 64,
   "metadata": {},
   "outputs": [
    {
     "name": "stdout",
     "output_type": "stream",
     "text": [
      "Record Count:  88\n",
      "root\n",
      " |-- City: string (nullable = true)\n",
      "\n"
     ]
    }
   ],
   "source": [
    "# Include the cities list in Los Angeles\n",
    "# The difference between the two city lists is La Canada Flintridge, some dataset uses its French name \n",
    "cities_path_2 = \"cities_2.csv\"\n",
    "cities_df_2 = load_data(cities_path_2)"
   ]
  },
  {
   "cell_type": "code",
   "execution_count": 70,
   "metadata": {},
   "outputs": [
    {
     "name": "stdout",
     "output_type": "stream",
     "text": [
      "After joined, data count:  968\n",
      "+----+-----------------+------------+\n",
      "|Year|Unemployment Rate|        City|\n",
      "+----+-----------------+------------+\n",
      "|2010|             10.5|Agoura Hills|\n",
      "|2011|             10.2|Agoura Hills|\n",
      "|2012|              9.2|Agoura Hills|\n",
      "|2013|              8.1|Agoura Hills|\n",
      "|2014|              6.8|Agoura Hills|\n",
      "|2015|              5.5|Agoura Hills|\n",
      "|2016|              4.8|Agoura Hills|\n",
      "|2017|              4.1|Agoura Hills|\n",
      "|2018|              4.3|Agoura Hills|\n",
      "|2019|              4.0|Agoura Hills|\n",
      "+----+-----------------+------------+\n",
      "only showing top 10 rows\n",
      "\n"
     ]
    }
   ],
   "source": [
    "# Only keep the data of cities in Los Angeles\n",
    "unemployment_clean = unemployment_input.join(cities_df_2, unemployment_input[\"Location\"]==cities_df_2[\"City\"]).drop(\"Location\")\n",
    "\n",
    "print(\"After joined, data count: \", unemployment_clean.count())\n",
    "unemployment_clean.show(10)"
   ]
  },
  {
   "cell_type": "code",
   "execution_count": 71,
   "metadata": {},
   "outputs": [],
   "source": [
    "# write cleaned data to csv\n",
    "unemployment_output_path = \"unemployment_clean.csv\"\n",
    "output_data(df=unemployment_clean, path=unemployment_output_path)"
   ]
  },
  {
   "cell_type": "markdown",
   "metadata": {},
   "source": [
    "#### 5. Wage Data\n",
    "Historical unemployment data of the Cities of Los Angeles from 2010 to 2020 should be downloaded from [Employment Development Department of the State of California](https://data.edd.ca.gov/Wages/Occupational-Employment-and-Wage-Statistics-OEWS-/pwxn-y2g5) as CSV into the working directory and renamed to `wage_original.csv`.  "
   ]
  },
  {
   "cell_type": "code",
   "execution_count": null,
   "metadata": {},
   "outputs": [],
   "source": []
  },
  {
   "cell_type": "markdown",
   "metadata": {},
   "source": [
    "#### 6. Education Data\n",
    "Historical unemployment data of the Cities of Los Angeles from 2010 to 2020 should be downloaded from [Employment Development Department of the State of California](https://data.edd.ca.gov/Labor-Force-and-Unemployment-Rates/Local-Area-Unemployment-Statistics-LAUS-Annual-Ave/7jbb-3rb8) as CSV into the working directory and renamed to `Unemployment_original.csv`.  \n",
    "Data is loaded as a Spark Dataframe for further cleaning."
   ]
  },
  {
   "cell_type": "code",
   "execution_count": null,
   "metadata": {},
   "outputs": [],
   "source": []
  },
  {
   "cell_type": "markdown",
   "metadata": {},
   "source": [
    "#### 7. House Price Data\n",
    "Historical house price data for the Cities of Los Angeles from 2010 to 2020 should be downloaded from [Zillow](https://www.zillow.com/research/data/) as CSV into the working directory and renamed to `house_price_original.csv`.  "
   ]
  },
  {
   "cell_type": "code",
   "execution_count": 74,
   "metadata": {},
   "outputs": [
    {
     "name": "stdout",
     "output_type": "stream",
     "text": [
      "Record Count:  117\n",
      "root\n",
      " |-- RegionName: string (nullable = true)\n",
      " |-- CountyName: string (nullable = true)\n",
      " |-- 2010: integer (nullable = true)\n",
      " |-- 2011: integer (nullable = true)\n",
      " |-- 2012: integer (nullable = true)\n",
      " |-- 2013: integer (nullable = true)\n",
      " |-- 2014: integer (nullable = true)\n",
      " |-- 2015: integer (nullable = true)\n",
      " |-- 2016: integer (nullable = true)\n",
      " |-- 2017: integer (nullable = true)\n",
      " |-- 2018: integer (nullable = true)\n",
      " |-- 2019: integer (nullable = true)\n",
      " |-- 2020: integer (nullable = true)\n",
      " |-- 2021: integer (nullable = true)\n",
      "\n"
     ]
    }
   ],
   "source": [
    "house_data_path = \"house_price_original.csv\"\n",
    "house_df = load_data(house_data_path)"
   ]
  },
  {
   "cell_type": "code",
   "execution_count": 75,
   "metadata": {},
   "outputs": [
    {
     "name": "stdout",
     "output_type": "stream",
     "text": [
      "After joined, data count:  85\n",
      "+------+------+------+------+------+------+------+------+------+------+------+-------+-------------+\n",
      "|  2010|  2011|  2012|  2013|  2014|  2015|  2016|  2017|  2018|  2019|  2020|   2021|         City|\n",
      "+------+------+------+------+------+------+------+------+------+------+------+-------+-------------+\n",
      "|443598|417794|412555|487311|539526|569032|612958|655440|709127|721705|768981| 879316|  Los Angeles|\n",
      "|392446|367406|360559|422371|460511|481832|516276|549841|591807|602065|639413| 735487|   Long Beach|\n",
      "|387078|361097|344866|399787|450558|471165|497903|527846|562726|566738|597246| 691957|Santa Clarita|\n",
      "|539168|507771|499262|581092|635879|678545|731557|780031|847227|860375|913777|1046715|     Glendale|\n",
      "|152561|145804|143409|174286|202131|213939|233481|257659|288135|301506|324275| 391338|    Lancaster|\n",
      "|164723|158992|155646|187200|221500|240177|260545|285259|316312|328997|351799| 421161|     Palmdale|\n",
      "|249878|242974|241167|291516|335086|355523|376839|404012|437156|447850|477048| 553397|       Pomona|\n",
      "|353229|336247|332042|382866|421463|443657|473245|503658|539259|542883|579612| 667125|     Whittier|\n",
      "|578863|548603|545801|631645|683158|714186|755767|802391|867403|871385|913906|1046059|     Pasadena|\n",
      "|602558|575725|567352|646974|687401|710418|747872|793819|848529|853981|898185|1022373|     Torrance|\n",
      "+------+------+------+------+------+------+------+------+------+------+------+-------+-------------+\n",
      "only showing top 10 rows\n",
      "\n"
     ]
    }
   ],
   "source": [
    "# Keep wanted colunmns but drop unwanted columns\n",
    "house_clean = house_df.join(cities_df_2, house_df[\"RegionName\"]==cities_df_2[\"City\"]).drop(\"RegionName\", \"CountyName\")\n",
    "\n",
    "print(\"After joined, data count: \", house_clean.count())\n",
    "house_clean.show(10)"
   ]
  },
  {
   "cell_type": "code",
   "execution_count": null,
   "metadata": {},
   "outputs": [],
   "source": [
    "# write cleaned data to csv\n",
    "house_output_path = \"house_price_clean.csv\"\n",
    "output_data(df=house_clean, path=house_output_path)"
   ]
  }
 ],
 "metadata": {
  "interpreter": {
   "hash": "70fd8fd7e3fc54d896fe6c72238aed96c145f98c112de7d68dff3109a15fe3ea"
  },
  "kernelspec": {
   "display_name": "Python 3.7.4 64-bit (system)",
   "language": "python",
   "name": "python3"
  },
  "language_info": {
   "codemirror_mode": {
    "name": "ipython",
    "version": 3
   },
   "file_extension": ".py",
   "mimetype": "text/x-python",
   "name": "python",
   "nbconvert_exporter": "python",
   "pygments_lexer": "ipython3",
   "version": "3.7.4"
  },
  "orig_nbformat": 4
 },
 "nbformat": 4,
 "nbformat_minor": 2
}
