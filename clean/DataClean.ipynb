{
 "cells": [
  {
   "cell_type": "markdown",
   "metadata": {},
   "source": [
    "## Extraction and Preprocessing of Data for Visualization \n",
    "\n",
    "#### Requirements\n",
    "This notebook was developed and tested on *** within the following environment.  \n",
    "\n",
    "\n",
    "```\n",
    "conda ...\n",
    "```"
   ]
  },
  {
   "cell_type": "code",
   "execution_count": 25,
   "metadata": {},
   "outputs": [],
   "source": [
    "import pyspark\n",
    "import pandas as pd\n",
    "#import geopandas as gpd\n",
    "import numpy as np\n",
    "from pyspark.sql import SQLContext\n",
    "from pyspark.sql import *\n",
    "from pyspark.sql.functions import *"
   ]
  },
  {
   "cell_type": "markdown",
   "metadata": {},
   "source": [
    "#### Data\n",
    "Historical crime data of the City of Los Angeles for all crimes recorded from 2010 to 2021 should be downloaded from [Los Angeles open data](https://data.lacity.org/Public-Safety/Number-of-crimes-2010-today/rvrw-58iu) as CSV into the working directory and renamed to `crime_big.csv`. Please note the file is about 500 MB.  \n",
    "Data is loaded as a Spark Dataframe for further cleaning."
   ]
  },
  {
   "cell_type": "code",
   "execution_count": null,
   "metadata": {},
   "outputs": [],
   "source": [
    "\n",
    "sc = pyspark.context.SparkContext('local')\n",
    "spark = SparkSession(sc)"
   ]
  },
  {
   "cell_type": "code",
   "execution_count": 7,
   "metadata": {},
   "outputs": [
    {
     "name": "stdout",
     "output_type": "stream",
     "text": [
      "Record Count:  2060948\n",
      "root\n",
      " |-- DR_NO: integer (nullable = true)\n",
      " |-- Date Rptd: string (nullable = true)\n",
      " |-- DATE OCC: string (nullable = true)\n",
      " |-- TIME OCC: integer (nullable = true)\n",
      " |-- AREA : integer (nullable = true)\n",
      " |-- AREA NAME: string (nullable = true)\n",
      " |-- Rpt Dist No: integer (nullable = true)\n",
      " |-- Part 1-2: integer (nullable = true)\n",
      " |-- Crm Cd: integer (nullable = true)\n",
      " |-- Crm Cd Desc: string (nullable = true)\n",
      " |-- Mocodes: string (nullable = true)\n",
      " |-- Vict Age: integer (nullable = true)\n",
      " |-- Vict Sex: string (nullable = true)\n",
      " |-- Vict Descent: string (nullable = true)\n",
      " |-- Premis Cd: integer (nullable = true)\n",
      " |-- Premis Desc: string (nullable = true)\n",
      " |-- Weapon Used Cd: integer (nullable = true)\n",
      " |-- Weapon Desc: string (nullable = true)\n",
      " |-- Status: string (nullable = true)\n",
      " |-- Status Desc: string (nullable = true)\n",
      " |-- Crm Cd 1: integer (nullable = true)\n",
      " |-- Crm Cd 2: integer (nullable = true)\n",
      " |-- Crm Cd 3: integer (nullable = true)\n",
      " |-- Crm Cd 4: integer (nullable = true)\n",
      " |-- LOCATION: string (nullable = true)\n",
      " |-- Cross Street: string (nullable = true)\n",
      " |-- LAT: double (nullable = true)\n",
      " |-- LON: double (nullable = true)\n",
      "\n"
     ]
    }
   ],
   "source": [
    "### This cell may take up to 20s to run.\n",
    "input_path = \"crime_big.csv\"\n",
    "crime_df = spark.read.csv(input_path, header=True,inferSchema=True)\n",
    "print(\"Record Count: \", crime_df.count())\n",
    "crime_df.printSchema()"
   ]
  },
  {
   "cell_type": "markdown",
   "metadata": {},
   "source": [
    "----\n",
    "Select the needed columns to refine the data. Then filter out the records with NA/NULL values."
   ]
  },
  {
   "cell_type": "code",
   "execution_count": 60,
   "metadata": {},
   "outputs": [
    {
     "name": "stdout",
     "output_type": "stream",
     "text": [
      "+----+--------------------+--------+---------+\n",
      "|date|          crime type|latitude|longitude|\n",
      "+----+--------------------+--------+---------+\n",
      "|null|VIOLATION OF COUR...| 33.9825|-118.2695|\n",
      "|null|VANDALISM - FELON...| 33.9599|-118.3962|\n",
      "|null|OTHER MISCELLANEO...| 34.0224|-118.2524|\n",
      "|null|VIOLATION OF COUR...| 34.1016|-118.3295|\n",
      "|null|     RAPE, ATTEMPTED| 34.0387|-118.2488|\n",
      "|null|SHOPLIFTING - PET...|  34.048|-118.2577|\n",
      "|null|BURGLARY FROM VEH...| 34.0389|-118.2643|\n",
      "|null|ASSAULT WITH DEAD...| 34.0435|-118.2427|\n",
      "|null|ASSAULT WITH DEAD...|  34.045| -118.264|\n",
      "|null|THEFT-GRAND ($950...| 34.0538|-118.2488|\n",
      "|null|BATTERY - SIMPLE ...|  34.064|-118.2375|\n",
      "|null|             ROBBERY|  34.035|-118.2386|\n",
      "|null|VANDALISM - FELON...| 34.0409|-118.2609|\n",
      "|null|          BOMB SCARE| 34.0502| -118.254|\n",
      "|null|             ROBBERY| 34.0515|-118.2424|\n",
      "|null|OTHER MISCELLANEO...| 34.0389| -118.255|\n",
      "|null|CHILD NEGLECT (SE...| 34.0401|-118.2668|\n",
      "|null|             ROBBERY| 34.0428|-118.2461|\n",
      "|null|INTIMATE PARTNER ...| 34.0545|-118.2499|\n",
      "|null|             ROBBERY| 34.0563|-118.2374|\n",
      "+----+--------------------+--------+---------+\n",
      "only showing top 20 rows\n",
      "\n"
     ]
    }
   ],
   "source": [
    "# Select colunmns and rename\n",
    "crime_clean = crime_df.select('Date OCC', 'Crm Cd Desc', 'LAT', 'LON')\\\n",
    "    .withColumnRenamed('Date OCC', 'date').withColumnRenamed('Crm Cd Desc', 'crime type')\\\n",
    "    .withColumnRenamed('LAT', 'latitude').withColumnRenamed('LON', 'longitude')\n",
    "\n",
    "# convert date\n",
    "#crime_clean = crime_clean.withColumn(\"date\", to_date(crime_clean[\"date\"], \"MM/dd/yyyy HH:mm:ss a\"))\n",
    "crime_clean = crime_clean.withColumn(\"date\", date_format(crime_clean[\"date\"], \"MM/dd/yyyy HH:mm:ss a\"))\n",
    "\n",
    "# extract day, month, year\n",
    "\"\"\"\n",
    "crime_clean = crime_clean.withColumn(\"day\", date_format(crime_clean[\"date\"], \"dd\"))\\\n",
    "    .withColumn(\"month\", date_format(crime_clean[\"date\"], \"MM\"))\\\n",
    "    .withColumn(\"year\", date_format(crime_clean[\"date\"], \"yyyy\"))\n",
    "\"\"\"\n",
    "\n",
    "crime_clean.show(10)\n",
    "\n"
   ]
  },
  {
   "cell_type": "code",
   "execution_count": null,
   "metadata": {},
   "outputs": [],
   "source": [
    "# Exclude zero and null value\n",
    "crime_clean = crime_clean.where(crime_clean['date'].isNotNull()).where(crime_clean['crime type'].isNotNull())\\\n",
    ".where(crime_clean['latitude'].isNotNull() & (crime_clean['latitude'] != 0))\\\n",
    ".where(crime_clean['lontitude'].isNotNull() & (crime_clean['lontitude'] != 0))\n",
    "print(\"Record Count: \", crime_clean.count())"
   ]
  },
  {
   "cell_type": "code",
   "execution_count": null,
   "metadata": {},
   "outputs": [],
   "source": [
    "#crime_clean = crime_clean\n",
    "\n",
    "crime_clean.show(10)"
   ]
  }
 ],
 "metadata": {
  "interpreter": {
   "hash": "70fd8fd7e3fc54d896fe6c72238aed96c145f98c112de7d68dff3109a15fe3ea"
  },
  "kernelspec": {
   "display_name": "Python 3.7.4 64-bit (system)",
   "language": "python",
   "name": "python3"
  },
  "language_info": {
   "codemirror_mode": {
    "name": "ipython",
    "version": 3
   },
   "file_extension": ".py",
   "mimetype": "text/x-python",
   "name": "python",
   "nbconvert_exporter": "python",
   "pygments_lexer": "ipython3",
   "version": "3.7.4"
  },
  "orig_nbformat": 4
 },
 "nbformat": 4,
 "nbformat_minor": 2
}
