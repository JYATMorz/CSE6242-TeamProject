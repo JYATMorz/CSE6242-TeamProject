{
 "cells": [
  {
   "cell_type": "markdown",
   "metadata": {},
   "source": [
    "## Extraction and Preprocessing of Data for Visualization \n",
    "\n",
    "#### Requirements\n",
    "This notebook was developed and tested on *** within the following environment.  \n",
    "\n",
    "\n",
    "```\n",
    "conda ...\n",
    "```"
   ]
  },
  {
   "cell_type": "code",
   "execution_count": 2,
   "metadata": {},
   "outputs": [],
   "source": [
    "#import pandas as pd\n",
    "#import numpy as np\n",
    "#import geopandas as gpd\n",
    "import pyspark\n",
    "from pyspark.sql import SQLContext\n",
    "from pyspark.sql import *\n",
    "from pyspark.sql.functions import *"
   ]
  },
  {
   "cell_type": "markdown",
   "metadata": {},
   "source": [
    "#### Data\n",
    "Historical crime data of the City of Los Angeles for all crimes recorded from 2010 to 2021 should be downloaded from [Los Angeles open data](https://data.lacity.org/Public-Safety/Number-of-crimes-2010-today/rvrw-58iu) as CSV into the working directory and renamed to `crime_big.csv`. Please note the file is about 500 MB.  \n",
    "Data is loaded as a Spark Dataframe for further cleaning."
   ]
  },
  {
   "cell_type": "code",
   "execution_count": 3,
   "metadata": {},
   "outputs": [],
   "source": [
    "sc = pyspark.context.SparkContext('local')\n",
    "spark = SparkSession(sc)"
   ]
  },
  {
   "cell_type": "code",
   "execution_count": 89,
   "metadata": {},
   "outputs": [
    {
     "name": "stdout",
     "output_type": "stream",
     "text": [
      "Record Count:  2060948\n",
      "root\n",
      " |-- DR_NO: integer (nullable = true)\n",
      " |-- Date Rptd: string (nullable = true)\n",
      " |-- DATE OCC: string (nullable = true)\n",
      " |-- TIME OCC: integer (nullable = true)\n",
      " |-- AREA : integer (nullable = true)\n",
      " |-- AREA NAME: string (nullable = true)\n",
      " |-- Rpt Dist No: integer (nullable = true)\n",
      " |-- Part 1-2: integer (nullable = true)\n",
      " |-- Crm Cd: integer (nullable = true)\n",
      " |-- Crm Cd Desc: string (nullable = true)\n",
      " |-- Mocodes: string (nullable = true)\n",
      " |-- Vict Age: integer (nullable = true)\n",
      " |-- Vict Sex: string (nullable = true)\n",
      " |-- Vict Descent: string (nullable = true)\n",
      " |-- Premis Cd: integer (nullable = true)\n",
      " |-- Premis Desc: string (nullable = true)\n",
      " |-- Weapon Used Cd: integer (nullable = true)\n",
      " |-- Weapon Desc: string (nullable = true)\n",
      " |-- Status: string (nullable = true)\n",
      " |-- Status Desc: string (nullable = true)\n",
      " |-- Crm Cd 1: integer (nullable = true)\n",
      " |-- Crm Cd 2: integer (nullable = true)\n",
      " |-- Crm Cd 3: integer (nullable = true)\n",
      " |-- Crm Cd 4: integer (nullable = true)\n",
      " |-- LOCATION: string (nullable = true)\n",
      " |-- Cross Street: string (nullable = true)\n",
      " |-- LAT: double (nullable = true)\n",
      " |-- LON: double (nullable = true)\n",
      "\n"
     ]
    }
   ],
   "source": [
    "#input_path = \"data_sample.csv\" # test dataset\n",
    "\n",
    "input_path = \"crime_big.csv\"\n",
    "crime_df = spark.read.csv(input_path, header=True,inferSchema=True)\n",
    "\n",
    "print(\"Record Count: \", crime_df.count())\n",
    "crime_df.printSchema()"
   ]
  },
  {
   "cell_type": "markdown",
   "metadata": {},
   "source": [
    "----\n",
    "Select the needed columns to refine the data. Then filter out the records with NA/NULL values."
   ]
  },
  {
   "cell_type": "code",
   "execution_count": 93,
   "metadata": {},
   "outputs": [],
   "source": [
    "# Select colunmns and rename\n",
    "crime_clean = crime_df.select('Date OCC', 'Crm Cd Desc', 'LAT', 'LON', 'AREA NAME',\n",
    "                            'Vict Age','Vict Sex','Vict Descent','Weapon Used Cd')\\\n",
    "    .withColumnRenamed('Date OCC', 'date').withColumnRenamed('Crm Cd Desc', 'crime type')\\\n",
    "    .withColumnRenamed('LAT', 'latitude').withColumnRenamed('LON', 'longitude').withColumnRenamed('AREA NAME', 'area')\n",
    "\n",
    "# Victim info\n",
    "crime_clean = crime_clean.withColumnRenamed('Vict Age', 'victim age').withColumnRenamed('Vict Sex', 'victim sex')\\\n",
    "    .withColumnRenamed('Vict Descent', 'victim descent').withColumnRenamed('Weapon Used Cd', 'weapon type')"
   ]
  },
  {
   "cell_type": "code",
   "execution_count": 94,
   "metadata": {},
   "outputs": [
    {
     "name": "stdout",
     "output_type": "stream",
     "text": [
      "Record Count:  2058998\n"
     ]
    }
   ],
   "source": [
    "# Exclude zero and null value\n",
    "crime_clean = crime_clean.where(crime_clean['date'].isNotNull()).where(crime_clean['crime type'].isNotNull())\\\n",
    ".where(crime_clean['area'].isNotNull())\\\n",
    ".where(crime_clean['latitude'].isNotNull() & (crime_clean['latitude'] != 0))\\\n",
    ".where(crime_clean['longitude'].isNotNull() & (crime_clean['longitude'] != 0))\n",
    "\n",
    "print(\"Record Count: \", crime_clean.count())"
   ]
  },
  {
   "cell_type": "code",
   "execution_count": 95,
   "metadata": {},
   "outputs": [
    {
     "name": "stdout",
     "output_type": "stream",
     "text": [
      "+----------+-----------+--------+---------+---------+----------+----------+--------------+-----------+-----+---+----+\n",
      "|      date| crime type|latitude|longitude|     area|victim age|victim sex|victim descent|weapon type|month|day|year|\n",
      "+----------+-----------+--------+---------+---------+----------+----------+--------------+-----------+-----+---+----+\n",
      "|2010-02-20|  VIOLATION| 33.9825|-118.2695|   Newton|        48|         M|             H|       null|    2| 20|2010|\n",
      "|2010-09-12|  VANDALISM| 33.9599|-118.3962|  Pacific|         0|         M|             W|       null|    9| 12|2010|\n",
      "|2010-08-09|      OTHER| 34.0224|-118.2524|   Newton|         0|         M|             H|       null|    8|  9|2010|\n",
      "|2010-01-05|  VIOLATION| 34.1016|-118.3295|Hollywood|        47|         F|             W|        102|    1|  5|2010|\n",
      "|2010-01-02|       RAPE| 34.0387|-118.2488|  Central|        47|         F|             H|        400|    1|  2|2010|\n",
      "|2010-01-04|SHOPLIFTING|  34.048|-118.2577|  Central|        23|         M|             B|       null|    1|  4|2010|\n",
      "|2010-01-07|   BURGLARY| 34.0389|-118.2643|  Central|        46|         M|             H|       null|    1|  7|2010|\n",
      "|2010-01-08|    ASSAULT| 34.0435|-118.2427|  Central|        51|         M|             B|        500|    1|  8|2010|\n",
      "|2010-01-09|    ASSAULT|  34.045| -118.264|  Central|        30|         M|             H|        400|    1|  9|2010|\n",
      "|2010-01-06|THEFT-GRAND| 34.0538|-118.2488|  Central|        55|         M|             W|       null|    1|  6|2010|\n",
      "+----------+-----------+--------+---------+---------+----------+----------+--------------+-----------+-----+---+----+\n",
      "only showing top 10 rows\n",
      "\n"
     ]
    }
   ],
   "source": [
    "# truncate string in date and crime type to get precise result\n",
    "crime_clean = crime_clean.withColumn('date', substring(crime_clean[\"date\"], 1, 10))\\\n",
    "    .withColumn('crime type', split(crime_clean[\"crime type\"], pattern=\" |,\").getItem(0))\n",
    "\n",
    "# convert string to date format\n",
    "crime_clean = crime_clean.withColumn(\"date\", to_date(crime_clean[\"date\"], \"MM/dd/yyyy\"))\n",
    "\n",
    "# extract day, month, year\n",
    "crime_clean = crime_clean.withColumn(\"month\", date_format(crime_clean[\"date\"], \"M\"))\\\n",
    "    .withColumn(\"day\", date_format(crime_clean[\"date\"], \"d\"))\\\n",
    "    .withColumn(\"year\", date_format(crime_clean[\"date\"], \"y\"))\n",
    "\n",
    "crime_clean.show(10)"
   ]
  },
  {
   "cell_type": "code",
   "execution_count": 100,
   "metadata": {},
   "outputs": [],
   "source": [
    "# write cleaned data to csv\n",
    "output_path = \"./crime_clean.csv\"\n",
    "crime_clean.toPandas().to_csv(output_path, index=False)"
   ]
  },
  {
   "cell_type": "code",
   "execution_count": 88,
   "metadata": {},
   "outputs": [],
   "source": [
    "# count crime cases group by area\n",
    "def getCases(df):\n",
    "    case_df = df.groupBy(\"area\").agg({\"crime type\":\"count\"}).withColumnRenamed(\"count(crime type)\", \"crime cases\")\n",
    "    \n",
    "    return case_df"
   ]
  },
  {
   "cell_type": "code",
   "execution_count": null,
   "metadata": {},
   "outputs": [],
   "source": []
  }
 ],
 "metadata": {
  "interpreter": {
   "hash": "70fd8fd7e3fc54d896fe6c72238aed96c145f98c112de7d68dff3109a15fe3ea"
  },
  "kernelspec": {
   "display_name": "Python 3.7.4 64-bit (system)",
   "language": "python",
   "name": "python3"
  },
  "language_info": {
   "codemirror_mode": {
    "name": "ipython",
    "version": 3
   },
   "file_extension": ".py",
   "mimetype": "text/x-python",
   "name": "python",
   "nbconvert_exporter": "python",
   "pygments_lexer": "ipython3",
   "version": "3.7.4"
  },
  "orig_nbformat": 4
 },
 "nbformat": 4,
 "nbformat_minor": 2
}
